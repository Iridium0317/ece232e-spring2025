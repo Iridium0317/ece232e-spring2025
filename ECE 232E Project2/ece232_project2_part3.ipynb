{
  "cells": [
    {
      "cell_type": "code",
      "execution_count": null,
      "metadata": {
        "colab": {
          "base_uri": "https://localhost:8080/"
        },
        "id": "UA-cuGUBYFPk",
        "outputId": "c3697c7d-e1ff-444b-90cc-e61161947dce"
      },
      "outputs": [
        {
          "output_type": "stream",
          "name": "stdout",
          "text": [
            "Requirement already satisfied: torch_geometric in /usr/local/lib/python3.11/dist-packages (2.6.1)\n",
            "Requirement already satisfied: aiohttp in /usr/local/lib/python3.11/dist-packages (from torch_geometric) (3.11.15)\n",
            "Requirement already satisfied: fsspec in /usr/local/lib/python3.11/dist-packages (from torch_geometric) (2025.3.2)\n",
            "Requirement already satisfied: jinja2 in /usr/local/lib/python3.11/dist-packages (from torch_geometric) (3.1.6)\n",
            "Requirement already satisfied: numpy in /usr/local/lib/python3.11/dist-packages (from torch_geometric) (2.0.2)\n",
            "Requirement already satisfied: psutil>=5.8.0 in /usr/local/lib/python3.11/dist-packages (from torch_geometric) (5.9.5)\n",
            "Requirement already satisfied: pyparsing in /usr/local/lib/python3.11/dist-packages (from torch_geometric) (3.2.3)\n",
            "Requirement already satisfied: requests in /usr/local/lib/python3.11/dist-packages (from torch_geometric) (2.32.3)\n",
            "Requirement already satisfied: tqdm in /usr/local/lib/python3.11/dist-packages (from torch_geometric) (4.67.1)\n",
            "Requirement already satisfied: aiohappyeyeballs>=2.3.0 in /usr/local/lib/python3.11/dist-packages (from aiohttp->torch_geometric) (2.6.1)\n",
            "Requirement already satisfied: aiosignal>=1.1.2 in /usr/local/lib/python3.11/dist-packages (from aiohttp->torch_geometric) (1.3.2)\n",
            "Requirement already satisfied: attrs>=17.3.0 in /usr/local/lib/python3.11/dist-packages (from aiohttp->torch_geometric) (25.3.0)\n",
            "Requirement already satisfied: frozenlist>=1.1.1 in /usr/local/lib/python3.11/dist-packages (from aiohttp->torch_geometric) (1.6.0)\n",
            "Requirement already satisfied: multidict<7.0,>=4.5 in /usr/local/lib/python3.11/dist-packages (from aiohttp->torch_geometric) (6.4.3)\n",
            "Requirement already satisfied: propcache>=0.2.0 in /usr/local/lib/python3.11/dist-packages (from aiohttp->torch_geometric) (0.3.1)\n",
            "Requirement already satisfied: yarl<2.0,>=1.17.0 in /usr/local/lib/python3.11/dist-packages (from aiohttp->torch_geometric) (1.20.0)\n",
            "Requirement already satisfied: MarkupSafe>=2.0 in /usr/local/lib/python3.11/dist-packages (from jinja2->torch_geometric) (3.0.2)\n",
            "Requirement already satisfied: charset-normalizer<4,>=2 in /usr/local/lib/python3.11/dist-packages (from requests->torch_geometric) (3.4.1)\n",
            "Requirement already satisfied: idna<4,>=2.5 in /usr/local/lib/python3.11/dist-packages (from requests->torch_geometric) (3.10)\n",
            "Requirement already satisfied: urllib3<3,>=1.21.1 in /usr/local/lib/python3.11/dist-packages (from requests->torch_geometric) (2.3.0)\n",
            "Requirement already satisfied: certifi>=2017.4.17 in /usr/local/lib/python3.11/dist-packages (from requests->torch_geometric) (2025.1.31)\n"
          ]
        }
      ],
      "source": [
        "!pip install torch_geometric"
      ]
    },
    {
      "cell_type": "code",
      "execution_count": null,
      "metadata": {
        "id": "V1SaW8hftm6o"
      },
      "outputs": [],
      "source": [
        "from torch_geometric.datasets import Planetoid\n",
        "from torch_geometric.transforms import NormalizeFeatures\n",
        "\n",
        "dataset = Planetoid(root='data/Cora', name='Cora', transform=NormalizeFeatures())\n",
        "data = dataset[0]\n"
      ]
    },
    {
      "cell_type": "code",
      "execution_count": null,
      "metadata": {
        "id": "9_ODXO230R7Y"
      },
      "outputs": [],
      "source": [
        "import torch\n",
        "import torch.nn.functional as F\n",
        "from torch_geometric.nn import GCNConv\n",
        "\n",
        "class GCN(torch.nn.Module):\n",
        "    def __init__(self, in_feats, hidden_feats, num_classes, dropout):\n",
        "        super().__init__()\n",
        "        self.conv1 = GCNConv(in_feats, hidden_feats)\n",
        "        self.conv2 = GCNConv(hidden_feats, num_classes)\n",
        "        self.dropout = dropout\n",
        "\n",
        "    def forward(self, x, edge_index):\n",
        "        x = self.conv1(x, edge_index)\n",
        "        x = F.relu(x)\n",
        "        x = F.dropout(x, p=self.dropout, training=self.training)\n",
        "        x = self.conv2(x, edge_index)\n",
        "        return x\n",
        "\n",
        "model = GCN(dataset.num_features, 16, dataset.num_classes, dropout=0.5)\n",
        "optimizer = torch.optim.Adam(model.parameters(), lr=0.01, weight_decay=5e-4)\n"
      ]
    },
    {
      "cell_type": "code",
      "execution_count": null,
      "metadata": {
        "colab": {
          "base_uri": "https://localhost:8080/"
        },
        "id": "isKPhmHk0VZn",
        "outputId": "fca592c5-cda2-4479-a1ae-a5e1fa31594a"
      },
      "outputs": [
        {
          "output_type": "stream",
          "name": "stdout",
          "text": [
            "Epoch 020, Loss: 1.6711, Train: 0.8714, Val: 0.6280, Test: 0.6240\n",
            "Epoch 040, Loss: 1.2894, Train: 0.9071, Val: 0.7100, Test: 0.7190\n",
            "Epoch 060, Loss: 0.9110, Train: 0.9571, Val: 0.7700, Test: 0.7670\n",
            "Epoch 080, Loss: 0.7109, Train: 0.9643, Val: 0.7720, Test: 0.7830\n",
            "Epoch 100, Loss: 0.5672, Train: 0.9714, Val: 0.7940, Test: 0.7960\n",
            "Epoch 120, Loss: 0.4817, Train: 0.9786, Val: 0.8020, Test: 0.8040\n",
            "Epoch 140, Loss: 0.4225, Train: 0.9857, Val: 0.8100, Test: 0.8120\n",
            "Epoch 160, Loss: 0.3962, Train: 0.9857, Val: 0.8040, Test: 0.8240\n",
            "Epoch 180, Loss: 0.3664, Train: 0.9857, Val: 0.8020, Test: 0.8130\n",
            "Epoch 200, Loss: 0.3317, Train: 0.9929, Val: 0.8000, Test: 0.8140\n"
          ]
        }
      ],
      "source": [
        "def train():\n",
        "    model.train()\n",
        "    optimizer.zero_grad()\n",
        "    out = model(data.x, data.edge_index)\n",
        "    loss = F.cross_entropy(out[data.train_mask], data.y[data.train_mask])\n",
        "    loss.backward()\n",
        "    optimizer.step()\n",
        "    return loss.item()\n",
        "\n",
        "@torch.no_grad()\n",
        "def test():\n",
        "    model.eval()\n",
        "    out = model(data.x, data.edge_index).argmax(dim=1)\n",
        "    accs = []\n",
        "    for mask in [data.train_mask, data.val_mask, data.test_mask]:\n",
        "        correct = (out[mask] == data.y[mask]).sum()\n",
        "        accs.append(int(correct) / int(mask.sum()))\n",
        "    return accs  # [train_acc, val_acc, test_acc]\n",
        "\n",
        "for epoch in range(1, 201):\n",
        "    loss = train()\n",
        "    if epoch % 20 == 0:\n",
        "        train_acc, val_acc, test_acc = test()\n",
        "        print(f'Epoch {epoch:03d}, Loss: {loss:.4f}, '\n",
        "              f'Train: {train_acc:.4f}, Val: {val_acc:.4f}, Test: {test_acc:.4f}')\n"
      ]
    },
    {
      "cell_type": "code",
      "execution_count": null,
      "metadata": {
        "colab": {
          "base_uri": "https://localhost:8080/"
        },
        "id": "bMhpo7pr3COJ",
        "outputId": "e282317c-e1dc-451b-b1fb-639f014092d8"
      },
      "outputs": [
        {
          "output_type": "stream",
          "name": "stdout",
          "text": [
            "2.6.0+cu124\n"
          ]
        }
      ],
      "source": [
        "import torch\n",
        "print(torch.__version__)\n"
      ]
    },
    {
      "cell_type": "code",
      "execution_count": null,
      "metadata": {
        "colab": {
          "base_uri": "https://localhost:8080/"
        },
        "id": "0gotlzxF35e9",
        "outputId": "7a7c3eab-abea-4d1f-aaa6-c69ef42b0624"
      },
      "outputs": [
        {
          "output_type": "stream",
          "name": "stdout",
          "text": [
            "Looking in links: https://data.pyg.org/whl/torch-2.6.0+cu124.html\n",
            "Requirement already satisfied: torch-scatter in /usr/local/lib/python3.11/dist-packages (2.1.2+pt26cu124)\n",
            "Requirement already satisfied: torch-sparse in /usr/local/lib/python3.11/dist-packages (0.6.18+pt26cu124)\n",
            "Requirement already satisfied: torch-cluster in /usr/local/lib/python3.11/dist-packages (1.6.3+pt26cu124)\n",
            "Requirement already satisfied: torch-spline-conv in /usr/local/lib/python3.11/dist-packages (1.2.2+pt26cu124)\n",
            "Requirement already satisfied: torch-geometric in /usr/local/lib/python3.11/dist-packages (2.6.1)\n",
            "Requirement already satisfied: scipy in /usr/local/lib/python3.11/dist-packages (from torch-sparse) (1.14.1)\n",
            "Requirement already satisfied: aiohttp in /usr/local/lib/python3.11/dist-packages (from torch-geometric) (3.11.15)\n",
            "Requirement already satisfied: fsspec in /usr/local/lib/python3.11/dist-packages (from torch-geometric) (2025.3.2)\n",
            "Requirement already satisfied: jinja2 in /usr/local/lib/python3.11/dist-packages (from torch-geometric) (3.1.6)\n",
            "Requirement already satisfied: numpy in /usr/local/lib/python3.11/dist-packages (from torch-geometric) (2.0.2)\n",
            "Requirement already satisfied: psutil>=5.8.0 in /usr/local/lib/python3.11/dist-packages (from torch-geometric) (5.9.5)\n",
            "Requirement already satisfied: pyparsing in /usr/local/lib/python3.11/dist-packages (from torch-geometric) (3.2.3)\n",
            "Requirement already satisfied: requests in /usr/local/lib/python3.11/dist-packages (from torch-geometric) (2.32.3)\n",
            "Requirement already satisfied: tqdm in /usr/local/lib/python3.11/dist-packages (from torch-geometric) (4.67.1)\n",
            "Requirement already satisfied: aiohappyeyeballs>=2.3.0 in /usr/local/lib/python3.11/dist-packages (from aiohttp->torch-geometric) (2.6.1)\n",
            "Requirement already satisfied: aiosignal>=1.1.2 in /usr/local/lib/python3.11/dist-packages (from aiohttp->torch-geometric) (1.3.2)\n",
            "Requirement already satisfied: attrs>=17.3.0 in /usr/local/lib/python3.11/dist-packages (from aiohttp->torch-geometric) (25.3.0)\n",
            "Requirement already satisfied: frozenlist>=1.1.1 in /usr/local/lib/python3.11/dist-packages (from aiohttp->torch-geometric) (1.6.0)\n",
            "Requirement already satisfied: multidict<7.0,>=4.5 in /usr/local/lib/python3.11/dist-packages (from aiohttp->torch-geometric) (6.4.3)\n",
            "Requirement already satisfied: propcache>=0.2.0 in /usr/local/lib/python3.11/dist-packages (from aiohttp->torch-geometric) (0.3.1)\n",
            "Requirement already satisfied: yarl<2.0,>=1.17.0 in /usr/local/lib/python3.11/dist-packages (from aiohttp->torch-geometric) (1.20.0)\n",
            "Requirement already satisfied: MarkupSafe>=2.0 in /usr/local/lib/python3.11/dist-packages (from jinja2->torch-geometric) (3.0.2)\n",
            "Requirement already satisfied: charset-normalizer<4,>=2 in /usr/local/lib/python3.11/dist-packages (from requests->torch-geometric) (3.4.1)\n",
            "Requirement already satisfied: idna<4,>=2.5 in /usr/local/lib/python3.11/dist-packages (from requests->torch-geometric) (3.10)\n",
            "Requirement already satisfied: urllib3<3,>=1.21.1 in /usr/local/lib/python3.11/dist-packages (from requests->torch-geometric) (2.3.0)\n",
            "Requirement already satisfied: certifi>=2017.4.17 in /usr/local/lib/python3.11/dist-packages (from requests->torch-geometric) (2025.1.31)\n"
          ]
        }
      ],
      "source": [
        "!pip install torch-scatter torch-sparse torch-cluster torch-spline-conv torch-geometric \\\n",
        "  -f https://data.pyg.org/whl/torch-2.6.0+cu124.html\n"
      ]
    },
    {
      "cell_type": "code",
      "execution_count": null,
      "metadata": {
        "colab": {
          "base_uri": "https://localhost:8080/"
        },
        "id": "eY-URSTw2gYN",
        "outputId": "6a48e75f-1dfd-4fe7-b865-d8452f07da9d"
      },
      "outputs": [
        {
          "output_type": "stream",
          "name": "stdout",
          "text": [
            "Epoch 01, Loss: 122.1980\n",
            "Epoch 02, Loss: 89.1411\n",
            "Epoch 03, Loss: 69.9602\n",
            "Epoch 04, Loss: 56.9911\n",
            "Epoch 05, Loss: 48.0397\n",
            "Epoch 06, Loss: 41.2609\n",
            "Epoch 07, Loss: 36.1559\n",
            "Epoch 08, Loss: 32.1848\n",
            "Epoch 09, Loss: 29.2310\n",
            "Epoch 10, Loss: 27.0399\n",
            "Epoch 11, Loss: 25.3061\n",
            "Epoch 12, Loss: 24.0149\n",
            "Epoch 13, Loss: 23.0232\n",
            "Epoch 14, Loss: 22.2289\n",
            "Epoch 15, Loss: 21.6225\n",
            "Epoch 16, Loss: 21.0690\n",
            "Epoch 17, Loss: 20.7292\n",
            "Epoch 18, Loss: 20.4030\n",
            "Epoch 19, Loss: 20.1429\n",
            "Epoch 20, Loss: 19.9238\n",
            "Epoch 21, Loss: 19.7064\n",
            "Epoch 22, Loss: 19.5767\n",
            "Epoch 23, Loss: 19.4656\n",
            "Epoch 24, Loss: 19.3051\n",
            "Epoch 25, Loss: 19.2427\n",
            "Epoch 26, Loss: 19.1447\n",
            "Epoch 27, Loss: 19.0718\n",
            "Epoch 28, Loss: 19.0018\n",
            "Epoch 29, Loss: 18.9521\n",
            "Epoch 30, Loss: 18.8658\n",
            "Epoch 31, Loss: 18.8059\n",
            "Epoch 32, Loss: 18.7707\n",
            "Epoch 33, Loss: 18.7520\n",
            "Epoch 34, Loss: 18.6913\n",
            "Epoch 35, Loss: 18.6662\n",
            "Epoch 36, Loss: 18.6053\n",
            "Epoch 37, Loss: 18.6216\n",
            "Epoch 38, Loss: 18.5716\n",
            "Epoch 39, Loss: 18.5593\n",
            "Epoch 40, Loss: 18.5560\n",
            "Epoch 41, Loss: 18.5091\n",
            "Epoch 42, Loss: 18.4944\n",
            "Epoch 43, Loss: 18.4729\n",
            "Epoch 44, Loss: 18.4472\n",
            "Epoch 45, Loss: 18.4366\n",
            "Epoch 46, Loss: 18.4241\n",
            "Epoch 47, Loss: 18.4080\n",
            "Epoch 48, Loss: 18.4029\n",
            "Epoch 49, Loss: 18.3942\n",
            "Epoch 50, Loss: 18.3588\n"
          ]
        }
      ],
      "source": [
        "from torch_geometric.nn import Node2Vec\n",
        "node2vec = Node2Vec(\n",
        "    data.edge_index,\n",
        "    embedding_dim=64,\n",
        "    walk_length=20,\n",
        "    context_size=10,\n",
        "    walks_per_node=10,\n",
        "    p=1, q=1,\n",
        "    sparse=True\n",
        ")\n",
        "loader = node2vec.loader(batch_size=128, shuffle=True)\n",
        "optimizer = torch.optim.SparseAdam(node2vec.parameters(), lr=0.01)\n",
        "\n",
        "node2vec.train()\n",
        "for epoch in range(1, 51):\n",
        "    total_loss = 0\n",
        "    for pos_rw, neg_rw in loader:\n",
        "        optimizer.zero_grad()\n",
        "        loss = node2vec.loss(pos_rw, neg_rw)\n",
        "        loss.backward()\n",
        "        optimizer.step()\n",
        "        total_loss += loss.item()\n",
        "    print(f'Epoch {epoch:02d}, Loss: {total_loss:.4f}')\n",
        "\n",
        "node2vec.eval()\n",
        "embeddings = node2vec.embedding.weight.detach().cpu().numpy()"
      ]
    },
    {
      "cell_type": "code",
      "execution_count": null,
      "metadata": {
        "colab": {
          "base_uri": "https://localhost:8080/"
        },
        "id": "CwhRUZOl7wiq",
        "outputId": "b5be94f9-9f4d-48c7-840f-502b4031511d"
      },
      "outputs": [
        {
          "output_type": "stream",
          "name": "stdout",
          "text": [
            "Node2Vec-only: 0.6530\n",
            "Text-only:    0.5660\n",
            "Combined:     0.7160\n"
          ]
        }
      ],
      "source": [
        "import numpy as np\n",
        "from sklearn.ensemble import RandomForestClassifier\n",
        "from sklearn.metrics import accuracy_score\n",
        "text_feats = data.x.cpu().numpy()\n",
        "\n",
        "def evaluate(X):\n",
        "    clf = RandomForestClassifier(n_estimators=100, random_state=0)\n",
        "    clf.fit(X[data.train_mask], data.y[data.train_mask])\n",
        "    preds = clf.predict(X[data.test_mask])\n",
        "    return accuracy_score(data.y[data.test_mask], preds)\n",
        "\n",
        "\n",
        "acc_node2vec = evaluate(embeddings)\n",
        "acc_text     = evaluate(text_feats)\n",
        "acc_combined = evaluate(np.hstack([embeddings, text_feats]))\n",
        "\n",
        "print(f\"Node2Vec-only: {acc_node2vec:.4f}\")\n",
        "print(f\"Text-only:    {acc_text:.4f}\")\n",
        "print(f\"Combined:     {acc_combined:.4f}\")"
      ]
    },
    {
      "cell_type": "code",
      "execution_count": null,
      "metadata": {
        "id": "ctoVfJng88ZU"
      },
      "outputs": [],
      "source": [
        "X_combined = np.hstack([embeddings, text_feats])\n",
        "train_mask = data.train_mask.cpu().numpy()\n",
        "val_mask   = data.val_mask.cpu().numpy()\n",
        "test_mask  = data.test_mask.cpu().numpy()\n",
        "\n",
        "y = data.y.cpu().numpy()\n"
      ]
    },
    {
      "cell_type": "code",
      "execution_count": null,
      "metadata": {
        "colab": {
          "base_uri": "https://localhost:8080/"
        },
        "id": "8BFEzjEL9Ulw",
        "outputId": "47452ac2-20c6-4d97-9b3b-838ee52e1c32"
      },
      "outputs": [
        {
          "output_type": "stream",
          "name": "stdout",
          "text": [
            "Best SVM C: 0.1\n",
            "CV Accuracy: 0.7214285714285714\n"
          ]
        }
      ],
      "source": [
        "from sklearn.svm import SVC\n",
        "from sklearn.model_selection import GridSearchCV\n",
        "X_train = X_combined[train_mask]\n",
        "y_train = y[train_mask]\n",
        "\n",
        "param_grid = {'C': [0.01, 0.1, 1, 10, 100]}\n",
        "svc = SVC(kernel='linear')\n",
        "grid = GridSearchCV(svc, param_grid, cv=5, scoring='accuracy')\n",
        "grid.fit(X_train, y_train)\n",
        "\n",
        "print(\"Best SVM C:\", grid.best_params_['C'])\n",
        "print(\"CV Accuracy:\", grid.best_score_)\n"
      ]
    },
    {
      "cell_type": "code",
      "execution_count": null,
      "metadata": {
        "colab": {
          "base_uri": "https://localhost:8080/"
        },
        "id": "7ps7akK69cll",
        "outputId": "49199bc7-2089-4033-b98c-021b6de8976a"
      },
      "outputs": [
        {
          "output_type": "stream",
          "name": "stdout",
          "text": [
            "Test Accuracy: 0.709\n"
          ]
        }
      ],
      "source": [
        "best_svc = grid.best_estimator_\n",
        "X_test = X_combined[test_mask]\n",
        "y_test = y[test_mask]\n",
        "\n",
        "test_acc = best_svc.score(X_test, y_test)\n",
        "print(\"Test Accuracy:\", test_acc)\n"
      ]
    },
    {
      "cell_type": "code",
      "execution_count": null,
      "metadata": {
        "colab": {
          "base_uri": "https://localhost:8080/"
        },
        "id": "gmHv6Uik9vEp",
        "outputId": "2303d7e7-1ed7-4758-a7a5-9bc74356dd8b"
      },
      "outputs": [
        {
          "output_type": "stream",
          "name": "stdout",
          "text": [
            "Best RF params: {'max_depth': None, 'n_estimators': 500}\n",
            "CV Accuracy: 0.7785714285714285\n"
          ]
        }
      ],
      "source": [
        "from sklearn.ensemble import RandomForestClassifier\n",
        "from sklearn.model_selection import GridSearchCV\n",
        "\n",
        "X_train = X_combined[train_mask]\n",
        "y_train = y[train_mask]\n",
        "\n",
        "param_grid = {\n",
        "    'n_estimators': [50, 100, 200, 500],\n",
        "    'max_depth': [None, 10, 20, 50]\n",
        "}\n",
        "\n",
        "rf = RandomForestClassifier(random_state=0)\n",
        "grid_rf = GridSearchCV(\n",
        "    rf,\n",
        "    param_grid,\n",
        "    cv=5,\n",
        "    scoring='accuracy',\n",
        "    n_jobs=-1\n",
        ")\n",
        "grid_rf.fit(X_train, y_train)\n",
        "\n",
        "print(\"Best RF params:\", grid_rf.best_params_)\n",
        "print(\"CV Accuracy:\", grid_rf.best_score_)\n"
      ]
    },
    {
      "cell_type": "code",
      "execution_count": null,
      "metadata": {
        "colab": {
          "base_uri": "https://localhost:8080/"
        },
        "id": "tJEy9BLR-Bnm",
        "outputId": "86d3d76b-3173-4dfd-8410-3dacc35796c3"
      },
      "outputs": [
        {
          "output_type": "stream",
          "name": "stdout",
          "text": [
            "Test Accuracy (RF): 0.745\n"
          ]
        }
      ],
      "source": [
        "best_rf = grid_rf.best_estimator_\n",
        "X_test = X_combined[test_mask]\n",
        "y_test = y[test_mask]\n",
        "\n",
        "test_acc_rf = best_rf.score(X_test, y_test)\n",
        "print(\"Test Accuracy (RF):\", test_acc_rf)\n"
      ]
    },
    {
      "cell_type": "code",
      "source": [
        "import numpy as np\n",
        "from sklearn.metrics import accuracy_score, f1_score\n",
        "\n",
        "teleport_ps = [0.0, 0.1, 0.2]\n",
        "results = {}\n",
        "\n",
        "for p in teleport_ps:\n",
        "    # 1. Initialize a visits matrix (classes × nodes)\n",
        "    visits = np.zeros((num_classes, len(y_gcc)), dtype=int)\n",
        "\n",
        "    # 2. For each class c\n",
        "    for c in range(num_classes):\n",
        "        seeds = seed_nodes_gcc[c]\n",
        "\n",
        "        # 3. For each seed in that class\n",
        "        for seed in seeds:\n",
        "\n",
        "            # 4. Perform 1000 random walks of length 100\n",
        "            for _ in range(1000):\n",
        "                cur = seed\n",
        "                for _ in range(100):\n",
        "                    # 5. Record the visit\n",
        "                    visits[c, cur] += 1\n",
        "\n",
        "                    # 6. Teleport with probability p\n",
        "                    if np.random.rand() < p:\n",
        "                        cur = np.random.choice(seeds)\n",
        "                    else:\n",
        "                        nbrs, probs = trans_probs[cur]\n",
        "                        cur = np.random.choice(nbrs, p=probs)\n",
        "\n",
        "    # 7. Assign each node to the class with max visits\n",
        "    y_pred = visits.argmax(axis=0)\n",
        "\n",
        "    # Evaluate only on the unlabeled nodes\n",
        "    y_true = y_gcc[unlabeled_mask]\n",
        "    y_hat  = y_pred[unlabeled_mask]\n",
        "    acc = accuracy_score(y_true, y_hat)\n",
        "    f1  = f1_score(y_true, y_hat, average='macro')\n",
        "\n",
        "    results[p] = (acc, f1)\n",
        "\n",
        "# Print out the final table\n",
        "print(\"p    Accuracy   Macro F1\")\n",
        "for p, (acc, f1) in results.items():\n",
        "    print(f\"{p:.1f}  {acc:.4f}     {f1:.4f}\")\n"
      ],
      "metadata": {
        "colab": {
          "base_uri": "https://localhost:8080/"
        },
        "id": "Z5wVEr1MdsQh",
        "outputId": "9ec6667c-8e01-48c5-d563-45626a6a417c"
      },
      "execution_count": null,
      "outputs": [
        {
          "output_type": "stream",
          "name": "stdout",
          "text": [
            "p    Accuracy   Macro F1\n",
            "0.0  0.7499     0.7151\n",
            "0.1  0.7469     0.7406\n",
            "0.2  0.7321     0.7266\n"
          ]
        }
      ]
    }
  ],
  "metadata": {
    "colab": {
      "provenance": []
    },
    "kernelspec": {
      "display_name": "Python 3",
      "name": "python3"
    },
    "language_info": {
      "name": "python"
    }
  },
  "nbformat": 4,
  "nbformat_minor": 0
}